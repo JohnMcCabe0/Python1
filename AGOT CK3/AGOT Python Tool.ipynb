{
 "cells": [
  {
   "cell_type": "code",
   "execution_count": 10,
   "id": "16c80db1-c9bb-4bc6-aacd-31af583ca738",
   "metadata": {
    "tags": []
   },
   "outputs": [],
   "source": [
    "import tkinter as tk\n",
    "from tkinter import messagebox\n",
    "import subprocess\n",
    "\n",
    "def run_river_notebook():\n",
    "    try:\n",
    "        subprocess.run([\"jupyter\", \"nbconvert\", \"--to\", \"script\", r\"C:\\Users\\jmpmc\\Python\\AGOT CK3\\Riverlords Updater.ipynb\"], check=True)\n",
    "        subprocess.run([\"python\", r\"C:\\Users\\jmpmc\\Python\\AGOT CK3\\Riverlords Updater.py\"], check=True)\n",
    "        messagebox.showinfo(\"Success\", \"Riverlands characters successfully updated.\")\n",
    "    except FileNotFoundError:\n",
    "        messagebox.showerror(\"Error\", \"File not found.\")\n",
    "    except subprocess.CalledProcessError:\n",
    "        messagebox.showerror(\"Error\", \"Failed to update Riverlands characters.\")\n",
    "\n",
    "def run_northern_notebook():\n",
    "    try:\n",
    "        subprocess.run([\"jupyter\", \"nbconvert\", \"--to\", \"script\", r\"C:\\Users\\jmpmc\\Python\\AGOT CK3\\Northern Lords Updater.ipynb\"], check=True)\n",
    "        subprocess.run([\"python\", r\"C:\\Users\\jmpmc\\Python\\AGOT CK3\\Northern Lords Updater.py\"], check=True)\n",
    "        messagebox.showinfo(\"Success\", \"Northern characters successfully updated.\")\n",
    "    except FileNotFoundError:\n",
    "        messagebox.showerror(\"Error\", \"File not found.\")\n",
    "    except subprocess.CalledProcessError:\n",
    "        messagebox.showerror(\"Error\", \"Failed to update northern characters.\")\n",
    "\n",
    "# Create the main window\n",
    "root = tk.Tk()\n",
    "root.title(\"AGOT Characters Updater\")\n",
    "\n",
    "# Set window size and position\n",
    "window_width = 400\n",
    "window_height = 250\n",
    "screen_width = root.winfo_screenwidth()\n",
    "screen_height = root.winfo_screenheight()\n",
    "x = (screen_width - window_width) // 2\n",
    "y = (screen_height - window_height) // 2\n",
    "root.geometry(f\"{window_width}x{window_height}+{x}+{y}\")\n",
    "\n",
    "# Customize window background color\n",
    "root.configure(bg=\"lightgray\")\n",
    "\n",
    "# Customize button appearance\n",
    "button_style = {\n",
    "    \"bg\": \"lightblue\",\n",
    "    \"fg\": \"black\",\n",
    "    \"font\": (\"Arial\", 12, \"bold\"),\n",
    "    \"relief\": \"raised\",\n",
    "    \"borderwidth\": 10,\n",
    "    \"width\": 100,\n",
    "    \"height\": 2,\n",
    "    \"activebackground\": \"skyblue\"\n",
    "}\n",
    "\n",
    "# Create buttons to trigger the executions\n",
    "river_button = tk.Button(root, text=\"Update Riverlands Characters\", command=run_river_notebook, **button_style)\n",
    "river_button.pack(pady=5)\n",
    "\n",
    "northern_button = tk.Button(root, text=\"Update Northern Characters\", command=run_northern_notebook, **button_style)\n",
    "northern_button.pack(pady=5)\n",
    "\n",
    "# Start the GUI event loop\n",
    "root.mainloop()"
   ]
  },
  {
   "cell_type": "code",
   "execution_count": null,
   "id": "53eb19a3-3eaf-411e-899c-564a9fd810c5",
   "metadata": {},
   "outputs": [],
   "source": []
  }
 ],
 "metadata": {
  "kernelspec": {
   "display_name": "Python 3 (ipykernel)",
   "language": "python",
   "name": "python3"
  },
  "language_info": {
   "codemirror_mode": {
    "name": "ipython",
    "version": 3
   },
   "file_extension": ".py",
   "mimetype": "text/x-python",
   "name": "python",
   "nbconvert_exporter": "python",
   "pygments_lexer": "ipython3",
   "version": "3.11.5"
  }
 },
 "nbformat": 4,
 "nbformat_minor": 5
}
