{
 "cells": [
  {
   "cell_type": "code",
   "execution_count": null,
   "id": "1ce5fc0b-917f-47cd-9a92-3e9dbb236905",
   "metadata": {},
   "outputs": [],
   "source": [
    "def replace_text_in_file(filename, old_text, new_text):\n",
    "    with open(filename, 'r') as file:\n",
    "        filedata = file.read()\n",
    "\n",
    "    # Replace the old text with the new text\n",
    "    filedata = filedata.replace(old_text, new_text)\n",
    "\n",
    "    with open(filename, 'w') as file:\n",
    "        file.write(filedata)\n",
    "\n",
    "old_text = '''\n",
    "Drumm_1 = {\n",
    "\tname = Dunstan # Canon, AKA: The Bonehand, a lord\n",
    "\tdynasty = dynn_Drumm\n",
    "\tdna = Drumm_1\n",
    "'''\n",
    "\n",
    "new_text = '''\n",
    "Drumm_1 = {\n",
    "\tname = Dunstan # Canon, AKA: The Bonehand, a lord\n",
    "\tdynasty = dynn_Drumm\n",
    "\tdna = Drumm_1\n",
    "\t\n",
    "\ttrait = fecund\n",
    "'''\n",
    "\n",
    "filename = r'C:\\Program Files (x86)\\Steam\\steamapps\\workshop\\content\\1158310\\2962333032\\history\\characters\\00_agot_char_iron_islands.txt'  # Use a raw string\n",
    "\n",
    "replace_text_in_file(filename, old_text, new_text)\n",
    "\n",
    "print(\"Updated\")"
   ]
  }
 ],
 "metadata": {
  "kernelspec": {
   "display_name": "Python 3 (ipykernel)",
   "language": "python",
   "name": "python3"
  },
  "language_info": {
   "codemirror_mode": {
    "name": "ipython",
    "version": 3
   },
   "file_extension": ".py",
   "mimetype": "text/x-python",
   "name": "python",
   "nbconvert_exporter": "python",
   "pygments_lexer": "ipython3",
   "version": "3.11.5"
  }
 },
 "nbformat": 4,
 "nbformat_minor": 5
}
