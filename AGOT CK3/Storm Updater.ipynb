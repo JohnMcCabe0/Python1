{
 "cells": [
  {
   "cell_type": "code",
   "execution_count": 1,
   "id": "48db2b22-d3c2-445e-b578-5cb3b643e262",
   "metadata": {},
   "outputs": [
    {
     "name": "stdout",
     "output_type": "stream",
     "text": [
      "Penrose Updated\n"
     ]
    }
   ],
   "source": [
    "def replace_text_in_file(filename, old_text, new_text):\n",
    "    with open(filename, 'r') as file:\n",
    "        filedata = file.read()\n",
    "\n",
    "    # Replace the old text with the new text\n",
    "    filedata = filedata.replace(old_text, new_text)\n",
    "\n",
    "    with open(filename, 'w') as file:\n",
    "        file.write(filedata)\n",
    "\n",
    "# Define the old and new text\n",
    "old_text = '''\n",
    "Penrose_3 = {\n",
    "\tname = Jon\n",
    "\tdynasty = dynn_Penrose\n",
    "\n",
    "\tdna = Penrose_3\n",
    "\n",
    "\treligion = the_seven_main\n",
    "\tculture = stormlander\n",
    "\n",
    "\tfather = Penrose_2\n",
    "\tmother = Swann_2\n",
    "\n",
    "\t8280.1.1 = { birth = yes }\n",
    "}'''\n",
    "\n",
    "new_text = '''\n",
    "Penrose_3 = {\n",
    "\tname = Jon\n",
    "\tdynasty = dynn_Penrose\n",
    "\n",
    "\tdna = Penrose_3\n",
    "\n",
    "\treligion = the_seven_main\n",
    "\tculture = stormlander\n",
    "\n",
    "\tfather = Penrose_2\n",
    "\tmother = Swann_2\n",
    "    \n",
    "\tmartial = 6\n",
    "\tdiplomacy = 8\n",
    "\tintrigue = 4\n",
    "\tstewardship = 6\n",
    "\tlearning = 5\n",
    "\tprowess = 8\n",
    "\n",
    "\t8280.1.1 = { birth = yes }\n",
    "\t8290.1.1 = {\n",
    "\t\ttrait = brave\n",
    "\t\ttrait = gregarious\n",
    "\t}\n",
    "\t8296.1.1 = {\n",
    "\t\ttrait = knight\n",
    "\t\ttrait = education_martial_2\n",
    "\t\ttrait = education_martial_prowess_3\n",
    "\t\ttrait = zealous\n",
    "\t}\n",
    "}'''\n",
    "\n",
    "# Specify the filename\n",
    "filename = r'C:\\Program Files (x86)\\Steam\\steamapps\\workshop\\content\\1158310\\2962333032\\history\\characters\\00_agot_char_stormlands.txt'  # Use a raw string\n",
    "\n",
    "# Call the function to replace the text\n",
    "replace_text_in_file(filename, old_text, new_text)\n",
    "\n",
    "print(\"Penrose Updated\")\n"
   ]
  },
  {
   "cell_type": "code",
   "execution_count": null,
   "id": "1bf246bb-efa4-40be-b3ec-fe5ad565b449",
   "metadata": {},
   "outputs": [],
   "source": []
  }
 ],
 "metadata": {
  "kernelspec": {
   "display_name": "Python 3 (ipykernel)",
   "language": "python",
   "name": "python3"
  },
  "language_info": {
   "codemirror_mode": {
    "name": "ipython",
    "version": 3
   },
   "file_extension": ".py",
   "mimetype": "text/x-python",
   "name": "python",
   "nbconvert_exporter": "python",
   "pygments_lexer": "ipython3",
   "version": "3.11.5"
  }
 },
 "nbformat": 4,
 "nbformat_minor": 5
}
